{
 "cells": [
  {
   "cell_type": "code",
   "execution_count": 21,
   "id": "certified-brighton",
   "metadata": {},
   "outputs": [
    {
     "name": "stderr",
     "output_type": "stream",
     "text": [
      "Exception in Tkinter callback\n",
      "Traceback (most recent call last):\n",
      "  File \"C:\\Users\\i340968\\Anaconda3\\lib\\tkinter\\__init__.py\", line 1883, in __call__\n",
      "    return self.func(*args)\n",
      "  File \"<ipython-input-21-d792a85988f2>\", line 16, in <lambda>\n",
      "    btn =Button(root,text='OPEN',command=lambda:open_file())\n",
      "  File \"<ipython-input-21-d792a85988f2>\", line 9, in open_file\n",
      "    if file is not null:\n",
      "NameError: name 'null' is not defined\n"
     ]
    }
   ],
   "source": [
    "from tkinter import*\n",
    "from tkinter.ttk import*\n",
    "from tkinter.filedialog import askopenfile\n",
    "root = Tk()\n",
    "root.geometry('500x500')\n",
    "\n",
    "def open_file():\n",
    "    file = askopenfile(mode='r',filetypes=[('Python File','*.py'),('Text File','*.txt'),('All File','*.*')])\n",
    "    if file is not None:\n",
    "        content=file.read()\n",
    "        print(content)\n",
    "    if file is None:\n",
    "        print(\"File is null\")\n",
    "\n",
    "        \n",
    "btn =Button(root,text='OPEN',command=lambda:open_file())\n",
    "btn.pack(side=TOP,pady=10)\n",
    "mainloop()       "
   ]
  },
  {
   "cell_type": "code",
   "execution_count": null,
   "id": "ancient-patient",
   "metadata": {},
   "outputs": [],
   "source": []
  }
 ],
 "metadata": {
  "kernelspec": {
   "display_name": "Python 3",
   "language": "python",
   "name": "python3"
  },
  "language_info": {
   "codemirror_mode": {
    "name": "ipython",
    "version": 3
   },
   "file_extension": ".py",
   "mimetype": "text/x-python",
   "name": "python",
   "nbconvert_exporter": "python",
   "pygments_lexer": "ipython3",
   "version": "3.8.5"
  }
 },
 "nbformat": 4,
 "nbformat_minor": 5
}
