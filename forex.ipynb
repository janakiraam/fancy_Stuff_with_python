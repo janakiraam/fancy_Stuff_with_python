{
 "cells": [
  {
   "cell_type": "code",
   "execution_count": 6,
   "metadata": {},
   "outputs": [],
   "source": [
    "from forex_python.converter import CurrencyRates\n",
    "currency_rate=CurrencyRates()"
   ]
  },
  {
   "cell_type": "code",
   "execution_count": 7,
   "metadata": {},
   "outputs": [
    {
     "data": {
      "text/plain": [
       "<forex_python.converter.CurrencyRates at 0x1af409fcd30>"
      ]
     },
     "execution_count": 7,
     "metadata": {},
     "output_type": "execute_result"
    }
   ],
   "source": [
    "currency_rate"
   ]
  },
  {
   "cell_type": "code",
   "execution_count": 8,
   "metadata": {},
   "outputs": [
    {
     "data": {
      "text/plain": [
       "{'GBP': 0.7328012571,\n",
       " 'HKD': 7.7530394508,\n",
       " 'IDR': 14117.2525018609,\n",
       " 'ILS': 3.2937722273,\n",
       " 'DKK': 6.1506905963,\n",
       " 'INR': 73.0468943843,\n",
       " 'CHF': 0.8918203623,\n",
       " 'MXN': 20.4438838806,\n",
       " 'CZK': 21.5978827227,\n",
       " 'SGD': 1.3331403523,\n",
       " 'THB': 30.0347365809,\n",
       " 'HRK': 6.2568852866,\n",
       " 'EUR': 0.8270614507,\n",
       " 'MYR': 4.0454883798,\n",
       " 'NOK': 8.7010999917,\n",
       " 'CNY': 6.469770904,\n",
       " 'BGN': 1.6175667852,\n",
       " 'PHP': 48.0737738814,\n",
       " 'PLN': 3.7607311223,\n",
       " 'ZAR': 15.2472913737,\n",
       " 'CAD': 1.2872384418,\n",
       " 'ISK': 129.0215863039,\n",
       " 'BRL': 5.4467785956,\n",
       " 'RON': 4.0328343396,\n",
       " 'NZD': 1.4066661153,\n",
       " 'TRY': 7.3867339343,\n",
       " 'JPY': 104.375155074,\n",
       " 'RUB': 76.4074104706,\n",
       " 'KRW': 1117.1615251013,\n",
       " 'USD': 1.0,\n",
       " 'AUD': 1.3161855926,\n",
       " 'HUF': 298.0233231329,\n",
       " 'SEK': 8.3825159209}"
      ]
     },
     "execution_count": 8,
     "metadata": {},
     "output_type": "execute_result"
    }
   ],
   "source": [
    "currency_rate.get_rates('USD') # 1 USD = 73 rupees"
   ]
  },
  {
   "cell_type": "code",
   "execution_count": 9,
   "metadata": {},
   "outputs": [
    {
     "data": {
      "text/plain": [
       "{'GBP': 0.010031929,\n",
       " 'HKD': 0.1061378381,\n",
       " 'IDR': 193.262870665,\n",
       " 'ILS': 0.0450912014,\n",
       " 'DKK': 0.0842019452,\n",
       " 'INR': 1.0,\n",
       " 'CHF': 0.0122088744,\n",
       " 'MXN': 0.2798734163,\n",
       " 'CZK': 0.2956714711,\n",
       " 'SGD': 0.0182504727,\n",
       " 'THB': 0.4111706163,\n",
       " 'HRK': 0.0856557331,\n",
       " 'EUR': 0.0113223356,\n",
       " 'MYR': 0.0553820722,\n",
       " 'NOK': 0.1191166314,\n",
       " 'CNY': 0.0885701022,\n",
       " 'BGN': 0.0221442239,\n",
       " 'PHP': 0.6581220774,\n",
       " 'PLN': 0.0514837921,\n",
       " 'ZAR': 0.2087329174,\n",
       " 'CAD': 0.0176220831,\n",
       " 'ISK': 1.7662843491,\n",
       " 'BRL': 0.0745655054,\n",
       " 'RON': 0.0552088405,\n",
       " 'NZD': 0.0192570283,\n",
       " 'TRY': 0.1011231757,\n",
       " 'JPY': 1.4288787491,\n",
       " 'RUB': 1.0460049139,\n",
       " 'KRW': 15.2937579964,\n",
       " 'USD': 0.0136898359,\n",
       " 'AUD': 0.0180183648,\n",
       " 'HUF': 4.0798903998,\n",
       " 'SEK': 0.1147552677}"
      ]
     },
     "execution_count": 9,
     "metadata": {},
     "output_type": "execute_result"
    }
   ],
   "source": [
    "currency_rate.get_rates('INR')"
   ]
  },
  {
   "cell_type": "code",
   "execution_count": 13,
   "metadata": {},
   "outputs": [
    {
     "data": {
      "text/plain": [
       "0.013723539"
      ]
     },
     "execution_count": 13,
     "metadata": {},
     "output_type": "execute_result"
    }
   ],
   "source": [
    "currency_rate.get_rate('INR','USD') # INR to USD"
   ]
  },
  {
   "cell_type": "code",
   "execution_count": 14,
   "metadata": {},
   "outputs": [
    {
     "data": {
      "text/plain": [
       "72.867501648"
      ]
     },
     "execution_count": 14,
     "metadata": {},
     "output_type": "execute_result"
    }
   ],
   "source": [
    "currency_rate.get_rate('USD','INR')"
   ]
  },
  {
   "cell_type": "code",
   "execution_count": 15,
   "metadata": {},
   "outputs": [
    {
     "data": {
      "text/plain": [
       "37492.9467"
      ]
     },
     "execution_count": 15,
     "metadata": {},
     "output_type": "execute_result"
    }
   ],
   "source": [
    "from forex_python.bitcoin import BtcConverter\n",
    "b=BtcConverter()\n",
    "b.get_latest_price('USD')"
   ]
  },
  {
   "cell_type": "code",
   "execution_count": 16,
   "metadata": {},
   "outputs": [
    {
     "data": {
      "text/plain": [
       "2731394.2897"
      ]
     },
     "execution_count": 16,
     "metadata": {},
     "output_type": "execute_result"
    }
   ],
   "source": [
    "b.get_latest_price('INR')"
   ]
  },
  {
   "cell_type": "code",
   "execution_count": 17,
   "metadata": {},
   "outputs": [],
   "source": [
    "from forex_python.converter import CurrencyCodes\n",
    "code=CurrencyCodes()"
   ]
  },
  {
   "cell_type": "code",
   "execution_count": 20,
   "metadata": {},
   "outputs": [
    {
     "data": {
      "text/plain": [
       "'₹'"
      ]
     },
     "execution_count": 20,
     "metadata": {},
     "output_type": "execute_result"
    }
   ],
   "source": [
    "code.get_symbol('INR')"
   ]
  },
  {
   "cell_type": "code",
   "execution_count": 21,
   "metadata": {},
   "outputs": [
    {
     "data": {
      "text/plain": [
       "'US$'"
      ]
     },
     "execution_count": 21,
     "metadata": {},
     "output_type": "execute_result"
    }
   ],
   "source": [
    "code.get_symbol('USD')"
   ]
  },
  {
   "cell_type": "code",
   "execution_count": 25,
   "metadata": {},
   "outputs": [],
   "source": [
    "import akshare as ak"
   ]
  },
  {
   "cell_type": "code",
   "execution_count": 26,
   "metadata": {},
   "outputs": [
    {
     "name": "stdout",
     "output_type": "stream",
     "text": [
      "                 open       high        low      close     volume\n",
      "date                                                             \n",
      "1997-05-15    29.2500    30.0000    23.1300    23.5000  6013000.0\n",
      "1997-05-16    23.6300    23.7500    20.5000    20.7500  1225000.0\n",
      "1997-05-19    21.1300    21.2500    19.5000    20.5000   508900.0\n",
      "1997-05-20    20.7500    21.0000    19.6300    19.6300   455600.0\n",
      "1997-05-21    19.6300    19.7500    16.5000    17.1300  1571100.0\n",
      "...               ...        ...        ...        ...        ...\n",
      "2021-01-22  3304.3101  3321.9099  3283.1643  3292.2300  2556025.0\n",
      "2021-01-25  3328.5000  3363.8899  3243.1462  3294.0000  3547923.0\n",
      "2021-01-26  3296.3560  3338.0000  3282.8701  3326.1299  2702630.0\n",
      "2021-01-27  3341.4900  3346.5200  3207.0801  3232.5801  4307303.0\n",
      "2021-01-28  3235.0400  3301.6799  3228.6899  3237.6201  2899018.0\n",
      "\n",
      "[5964 rows x 5 columns]\n"
     ]
    }
   ],
   "source": [
    "hist_df=ak.stock_us_daily(symbol=\"AMZN\")\n",
    "print(hist_df)"
   ]
  },
  {
   "cell_type": "code",
   "execution_count": 27,
   "metadata": {},
   "outputs": [
    {
     "data": {
      "text/html": [
       "<div>\n",
       "<style scoped>\n",
       "    .dataframe tbody tr th:only-of-type {\n",
       "        vertical-align: middle;\n",
       "    }\n",
       "\n",
       "    .dataframe tbody tr th {\n",
       "        vertical-align: top;\n",
       "    }\n",
       "\n",
       "    .dataframe thead th {\n",
       "        text-align: right;\n",
       "    }\n",
       "</style>\n",
       "<table border=\"1\" class=\"dataframe\">\n",
       "  <thead>\n",
       "    <tr style=\"text-align: right;\">\n",
       "      <th></th>\n",
       "      <th>open</th>\n",
       "      <th>high</th>\n",
       "      <th>low</th>\n",
       "      <th>close</th>\n",
       "      <th>volume</th>\n",
       "    </tr>\n",
       "    <tr>\n",
       "      <th>date</th>\n",
       "      <th></th>\n",
       "      <th></th>\n",
       "      <th></th>\n",
       "      <th></th>\n",
       "      <th></th>\n",
       "    </tr>\n",
       "  </thead>\n",
       "  <tbody>\n",
       "    <tr>\n",
       "      <th>1997-05-15</th>\n",
       "      <td>29.2500</td>\n",
       "      <td>30.0000</td>\n",
       "      <td>23.1300</td>\n",
       "      <td>23.5000</td>\n",
       "      <td>6013000.0</td>\n",
       "    </tr>\n",
       "    <tr>\n",
       "      <th>1997-05-16</th>\n",
       "      <td>23.6300</td>\n",
       "      <td>23.7500</td>\n",
       "      <td>20.5000</td>\n",
       "      <td>20.7500</td>\n",
       "      <td>1225000.0</td>\n",
       "    </tr>\n",
       "    <tr>\n",
       "      <th>1997-05-19</th>\n",
       "      <td>21.1300</td>\n",
       "      <td>21.2500</td>\n",
       "      <td>19.5000</td>\n",
       "      <td>20.5000</td>\n",
       "      <td>508900.0</td>\n",
       "    </tr>\n",
       "    <tr>\n",
       "      <th>1997-05-20</th>\n",
       "      <td>20.7500</td>\n",
       "      <td>21.0000</td>\n",
       "      <td>19.6300</td>\n",
       "      <td>19.6300</td>\n",
       "      <td>455600.0</td>\n",
       "    </tr>\n",
       "    <tr>\n",
       "      <th>1997-05-21</th>\n",
       "      <td>19.6300</td>\n",
       "      <td>19.7500</td>\n",
       "      <td>16.5000</td>\n",
       "      <td>17.1300</td>\n",
       "      <td>1571100.0</td>\n",
       "    </tr>\n",
       "    <tr>\n",
       "      <th>...</th>\n",
       "      <td>...</td>\n",
       "      <td>...</td>\n",
       "      <td>...</td>\n",
       "      <td>...</td>\n",
       "      <td>...</td>\n",
       "    </tr>\n",
       "    <tr>\n",
       "      <th>2021-01-22</th>\n",
       "      <td>3304.3101</td>\n",
       "      <td>3321.9099</td>\n",
       "      <td>3283.1643</td>\n",
       "      <td>3292.2300</td>\n",
       "      <td>2556025.0</td>\n",
       "    </tr>\n",
       "    <tr>\n",
       "      <th>2021-01-25</th>\n",
       "      <td>3328.5000</td>\n",
       "      <td>3363.8899</td>\n",
       "      <td>3243.1462</td>\n",
       "      <td>3294.0000</td>\n",
       "      <td>3547923.0</td>\n",
       "    </tr>\n",
       "    <tr>\n",
       "      <th>2021-01-26</th>\n",
       "      <td>3296.3560</td>\n",
       "      <td>3338.0000</td>\n",
       "      <td>3282.8701</td>\n",
       "      <td>3326.1299</td>\n",
       "      <td>2702630.0</td>\n",
       "    </tr>\n",
       "    <tr>\n",
       "      <th>2021-01-27</th>\n",
       "      <td>3341.4900</td>\n",
       "      <td>3346.5200</td>\n",
       "      <td>3207.0801</td>\n",
       "      <td>3232.5801</td>\n",
       "      <td>4307303.0</td>\n",
       "    </tr>\n",
       "    <tr>\n",
       "      <th>2021-01-28</th>\n",
       "      <td>3235.0400</td>\n",
       "      <td>3301.6799</td>\n",
       "      <td>3228.6899</td>\n",
       "      <td>3237.6201</td>\n",
       "      <td>2899018.0</td>\n",
       "    </tr>\n",
       "  </tbody>\n",
       "</table>\n",
       "<p>5964 rows × 5 columns</p>\n",
       "</div>"
      ],
      "text/plain": [
       "                 open       high        low      close     volume\n",
       "date                                                             \n",
       "1997-05-15    29.2500    30.0000    23.1300    23.5000  6013000.0\n",
       "1997-05-16    23.6300    23.7500    20.5000    20.7500  1225000.0\n",
       "1997-05-19    21.1300    21.2500    19.5000    20.5000   508900.0\n",
       "1997-05-20    20.7500    21.0000    19.6300    19.6300   455600.0\n",
       "1997-05-21    19.6300    19.7500    16.5000    17.1300  1571100.0\n",
       "...               ...        ...        ...        ...        ...\n",
       "2021-01-22  3304.3101  3321.9099  3283.1643  3292.2300  2556025.0\n",
       "2021-01-25  3328.5000  3363.8899  3243.1462  3294.0000  3547923.0\n",
       "2021-01-26  3296.3560  3338.0000  3282.8701  3326.1299  2702630.0\n",
       "2021-01-27  3341.4900  3346.5200  3207.0801  3232.5801  4307303.0\n",
       "2021-01-28  3235.0400  3301.6799  3228.6899  3237.6201  2899018.0\n",
       "\n",
       "[5964 rows x 5 columns]"
      ]
     },
     "execution_count": 27,
     "metadata": {},
     "output_type": "execute_result"
    }
   ],
   "source": [
    "hist_df"
   ]
  },
  {
   "cell_type": "code",
   "execution_count": 33,
   "metadata": {},
   "outputs": [
    {
     "data": {
      "text/plain": [
       "pandas.core.frame.DataFrame"
      ]
     },
     "execution_count": 33,
     "metadata": {},
     "output_type": "execute_result"
    }
   ],
   "source": [
    "type(hist_df)"
   ]
  },
  {
   "cell_type": "code",
   "execution_count": 38,
   "metadata": {},
   "outputs": [
    {
     "data": {
      "text/html": [
       "<div>\n",
       "<style scoped>\n",
       "    .dataframe tbody tr th:only-of-type {\n",
       "        vertical-align: middle;\n",
       "    }\n",
       "\n",
       "    .dataframe tbody tr th {\n",
       "        vertical-align: top;\n",
       "    }\n",
       "\n",
       "    .dataframe thead th {\n",
       "        text-align: right;\n",
       "    }\n",
       "</style>\n",
       "<table border=\"1\" class=\"dataframe\">\n",
       "  <thead>\n",
       "    <tr style=\"text-align: right;\">\n",
       "      <th></th>\n",
       "      <th>open</th>\n",
       "      <th>high</th>\n",
       "      <th>low</th>\n",
       "      <th>close</th>\n",
       "      <th>volume</th>\n",
       "    </tr>\n",
       "    <tr>\n",
       "      <th>date</th>\n",
       "      <th></th>\n",
       "      <th></th>\n",
       "      <th></th>\n",
       "      <th></th>\n",
       "      <th></th>\n",
       "    </tr>\n",
       "  </thead>\n",
       "  <tbody>\n",
       "    <tr>\n",
       "      <th>1997-05-15</th>\n",
       "      <td>29.25</td>\n",
       "      <td>30.00</td>\n",
       "      <td>23.13</td>\n",
       "      <td>23.50</td>\n",
       "      <td>6013000.0</td>\n",
       "    </tr>\n",
       "    <tr>\n",
       "      <th>1997-05-16</th>\n",
       "      <td>23.63</td>\n",
       "      <td>23.75</td>\n",
       "      <td>20.50</td>\n",
       "      <td>20.75</td>\n",
       "      <td>1225000.0</td>\n",
       "    </tr>\n",
       "    <tr>\n",
       "      <th>1997-05-19</th>\n",
       "      <td>21.13</td>\n",
       "      <td>21.25</td>\n",
       "      <td>19.50</td>\n",
       "      <td>20.50</td>\n",
       "      <td>508900.0</td>\n",
       "    </tr>\n",
       "    <tr>\n",
       "      <th>1997-05-20</th>\n",
       "      <td>20.75</td>\n",
       "      <td>21.00</td>\n",
       "      <td>19.63</td>\n",
       "      <td>19.63</td>\n",
       "      <td>455600.0</td>\n",
       "    </tr>\n",
       "    <tr>\n",
       "      <th>1997-05-21</th>\n",
       "      <td>19.63</td>\n",
       "      <td>19.75</td>\n",
       "      <td>16.50</td>\n",
       "      <td>17.13</td>\n",
       "      <td>1571100.0</td>\n",
       "    </tr>\n",
       "  </tbody>\n",
       "</table>\n",
       "</div>"
      ],
      "text/plain": [
       "             open   high    low  close     volume\n",
       "date                                             \n",
       "1997-05-15  29.25  30.00  23.13  23.50  6013000.0\n",
       "1997-05-16  23.63  23.75  20.50  20.75  1225000.0\n",
       "1997-05-19  21.13  21.25  19.50  20.50   508900.0\n",
       "1997-05-20  20.75  21.00  19.63  19.63   455600.0\n",
       "1997-05-21  19.63  19.75  16.50  17.13  1571100.0"
      ]
     },
     "execution_count": 38,
     "metadata": {},
     "output_type": "execute_result"
    }
   ],
   "source": [
    "hist_df.head()"
   ]
  },
  {
   "cell_type": "code",
   "execution_count": 42,
   "metadata": {},
   "outputs": [
    {
     "data": {
      "text/plain": [
       "date\n",
       "1997-05-15      23.1300\n",
       "1997-05-16      20.5000\n",
       "1997-05-19      19.5000\n",
       "1997-05-20      19.6300\n",
       "1997-05-21      16.5000\n",
       "                ...    \n",
       "2021-01-22    3283.1643\n",
       "2021-01-25    3243.1462\n",
       "2021-01-26    3282.8701\n",
       "2021-01-27    3207.0801\n",
       "2021-01-28    3228.6899\n",
       "Name: low, Length: 5964, dtype: float64"
      ]
     },
     "execution_count": 42,
     "metadata": {},
     "output_type": "execute_result"
    }
   ],
   "source": [
    "hist_df['low']"
   ]
  },
  {
   "cell_type": "code",
   "execution_count": null,
   "metadata": {},
   "outputs": [],
   "source": []
  }
 ],
 "metadata": {
  "kernelspec": {
   "display_name": "Python 3",
   "language": "python",
   "name": "python3"
  },
  "language_info": {
   "codemirror_mode": {
    "name": "ipython",
    "version": 3
   },
   "file_extension": ".py",
   "mimetype": "text/x-python",
   "name": "python",
   "nbconvert_exporter": "python",
   "pygments_lexer": "ipython3",
   "version": "3.8.5"
  }
 },
 "nbformat": 4,
 "nbformat_minor": 4
}
