{
 "cells": [
  {
   "cell_type": "code",
   "execution_count": 1,
   "id": "vertical-working",
   "metadata": {},
   "outputs": [],
   "source": [
    "from PyPDF2 import PdfFileReader,PdfFileWriter\n"
   ]
  },
  {
   "cell_type": "code",
   "execution_count": 2,
   "id": "animal-holder",
   "metadata": {},
   "outputs": [],
   "source": [
    "#open pdf and read\n",
    "\n",
    "file_pdf=PdfFileReader('CAP.pdf')\n",
    "\n",
    "# Object for PDF writer\n",
    "out_pdf= PdfFileWriter()"
   ]
  },
  {
   "cell_type": "code",
   "execution_count": 3,
   "id": "judicial-performance",
   "metadata": {},
   "outputs": [
    {
     "data": {
      "text/plain": [
       "<PyPDF2.pdf.PdfFileReader at 0x28a7e1cdfa0>"
      ]
     },
     "execution_count": 3,
     "metadata": {},
     "output_type": "execute_result"
    }
   ],
   "source": [
    "file_pdf"
   ]
  },
  {
   "cell_type": "code",
   "execution_count": 4,
   "id": "enclosed-machine",
   "metadata": {},
   "outputs": [
    {
     "data": {
      "text/plain": [
       "1"
      ]
     },
     "execution_count": 4,
     "metadata": {},
     "output_type": "execute_result"
    }
   ],
   "source": [
    "#getting number of pages in pdf\n",
    "file_pdf.numPages"
   ]
  },
  {
   "cell_type": "code",
   "execution_count": 5,
   "id": "decreased-sleeping",
   "metadata": {},
   "outputs": [
    {
     "ename": "TypeError",
     "evalue": "'int' object is not iterable",
     "output_type": "error",
     "traceback": [
      "\u001b[1;31m---------------------------------------------------------------------------\u001b[0m",
      "\u001b[1;31mTypeError\u001b[0m                                 Traceback (most recent call last)",
      "\u001b[1;32m<ipython-input-5-f82d43ed96d7>\u001b[0m in \u001b[0;36m<module>\u001b[1;34m\u001b[0m\n\u001b[0;32m      2\u001b[0m \u001b[1;31m# i indicate index - page\u001b[0m\u001b[1;33m\u001b[0m\u001b[1;33m\u001b[0m\u001b[1;33m\u001b[0m\u001b[0m\n\u001b[0;32m      3\u001b[0m \u001b[1;33m\u001b[0m\u001b[0m\n\u001b[1;32m----> 4\u001b[1;33m \u001b[1;32mfor\u001b[0m \u001b[0mi\u001b[0m \u001b[1;32min\u001b[0m \u001b[0mfile_pdf\u001b[0m\u001b[1;33m.\u001b[0m\u001b[0mnumPages\u001b[0m\u001b[1;33m:\u001b[0m\u001b[1;33m\u001b[0m\u001b[1;33m\u001b[0m\u001b[0m\n\u001b[0m\u001b[0;32m      5\u001b[0m     \u001b[0mpdf_details\u001b[0m\u001b[1;33m=\u001b[0m\u001b[0mfile_pdf\u001b[0m\u001b[1;33m.\u001b[0m\u001b[0mgetpage\u001b[0m\u001b[1;33m(\u001b[0m\u001b[0mi\u001b[0m\u001b[1;33m)\u001b[0m\u001b[1;33m\u001b[0m\u001b[1;33m\u001b[0m\u001b[0m\n\u001b[0;32m      6\u001b[0m     \u001b[0mout_pdf\u001b[0m\u001b[1;33m.\u001b[0m\u001b[0maddpage\u001b[0m\u001b[1;33m(\u001b[0m\u001b[0mpdf_details\u001b[0m\u001b[1;33m)\u001b[0m\u001b[1;33m\u001b[0m\u001b[1;33m\u001b[0m\u001b[0m\n",
      "\u001b[1;31mTypeError\u001b[0m: 'int' object is not iterable"
     ]
    }
   ],
   "source": [
    "# taking all the page and adding to output page\n",
    "# i indicate index - page\n",
    "\n",
    "for i in file_pdf.numPages:\n",
    "    pdf_details=file_pdf.getpage(i)\n",
    "    out_pdf.addpage(pdf_details)\n",
    "    "
   ]
  },
  {
   "cell_type": "code",
   "execution_count": 8,
   "id": "destroyed-profit",
   "metadata": {},
   "outputs": [
    {
     "ename": "AttributeError",
     "evalue": "'PdfFileReader' object has no attribute 'getpage'",
     "output_type": "error",
     "traceback": [
      "\u001b[1;31m---------------------------------------------------------------------------\u001b[0m",
      "\u001b[1;31mAttributeError\u001b[0m                            Traceback (most recent call last)",
      "\u001b[1;32m<ipython-input-8-cb1d89f32f05>\u001b[0m in \u001b[0;36m<module>\u001b[1;34m\u001b[0m\n\u001b[0;32m      1\u001b[0m \u001b[1;32mfor\u001b[0m \u001b[0mi\u001b[0m \u001b[1;32min\u001b[0m \u001b[0mrange\u001b[0m\u001b[1;33m(\u001b[0m\u001b[0mfile_pdf\u001b[0m\u001b[1;33m.\u001b[0m\u001b[0mnumPages\u001b[0m\u001b[1;33m)\u001b[0m\u001b[1;33m:\u001b[0m\u001b[1;33m\u001b[0m\u001b[1;33m\u001b[0m\u001b[0m\n\u001b[1;32m----> 2\u001b[1;33m     \u001b[0mpdf_details\u001b[0m\u001b[1;33m=\u001b[0m\u001b[0mfile_pdf\u001b[0m\u001b[1;33m.\u001b[0m\u001b[0mgetpage\u001b[0m\u001b[1;33m(\u001b[0m\u001b[0mi\u001b[0m\u001b[1;33m)\u001b[0m\u001b[1;33m\u001b[0m\u001b[1;33m\u001b[0m\u001b[0m\n\u001b[0m\u001b[0;32m      3\u001b[0m     \u001b[0mout_pdf\u001b[0m\u001b[1;33m.\u001b[0m\u001b[0maddpage\u001b[0m\u001b[1;33m(\u001b[0m\u001b[0mpdf_details\u001b[0m\u001b[1;33m)\u001b[0m\u001b[1;33m\u001b[0m\u001b[1;33m\u001b[0m\u001b[0m\n",
      "\u001b[1;31mAttributeError\u001b[0m: 'PdfFileReader' object has no attribute 'getpage'"
     ]
    }
   ],
   "source": [
    "for i in range(file_pdf.numPages):\n",
    "    pdf_details=file_pdf.getpage(i)\n",
    "    out_pdf.addpage(pdf_details)"
   ]
  },
  {
   "cell_type": "code",
   "execution_count": 9,
   "id": "attended-tonight",
   "metadata": {},
   "outputs": [],
   "source": [
    "for i in range(file_pdf.numPages):\n",
    "    pdf_details=file_pdf.getPage(i)\n",
    "    out_pdf.addPage(pdf_details)"
   ]
  },
  {
   "cell_type": "code",
   "execution_count": 10,
   "id": "distributed-ideal",
   "metadata": {},
   "outputs": [],
   "source": [
    "password=\"test@!23\"\n",
    "out_pdf.encrypt(password)\n"
   ]
  },
  {
   "cell_type": "code",
   "execution_count": 11,
   "id": "everyday-invasion",
   "metadata": {},
   "outputs": [],
   "source": [
    "with open(\"capencry.pdf\",\"wb\") as filename:\n",
    "    out_pdf.write(filename)"
   ]
  },
  {
   "cell_type": "code",
   "execution_count": null,
   "id": "suspected-amendment",
   "metadata": {},
   "outputs": [],
   "source": []
  }
 ],
 "metadata": {
  "kernelspec": {
   "display_name": "Python 3",
   "language": "python",
   "name": "python3"
  },
  "language_info": {
   "codemirror_mode": {
    "name": "ipython",
    "version": 3
   },
   "file_extension": ".py",
   "mimetype": "text/x-python",
   "name": "python",
   "nbconvert_exporter": "python",
   "pygments_lexer": "ipython3",
   "version": "3.8.5"
  }
 },
 "nbformat": 4,
 "nbformat_minor": 5
}
