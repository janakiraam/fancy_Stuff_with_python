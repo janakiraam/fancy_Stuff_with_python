{
 "cells": [
  {
   "cell_type": "markdown",
   "id": "painful-antenna",
   "metadata": {},
   "source": [
    "\n",
    "SHA, ( Secure Hash Algorithms )- Base Of BlockChain\n",
    "\n",
    "SHA256 : This hash function belong to hash class SHA-2, the internal block size of it is 32 bits.\n",
    "\n",
    "SHA384 : This hash function belong to hash class SHA-2, the internal block size of it is 32 bits. This is one of the truncated version.\n",
    "\n",
    "SHA224 : This hash function belong to hash class SHA-2, the internal block size of it is 32 bits. This is one of the truncated version.\n",
    "\n",
    "SHA512 : This hash function belong to hash class SHA-2, the internal block size of it is 64 bits.\n",
    "\n",
    "SHA1 : The 160 bit hash function that resembles MD5 hash in working and was discontinued to be used seeing its security vulnerabilities.\n",
    "\n",
    "##############################\n",
    "Copied from krish naik turotial : https://github.com/krishnaik06/SHA-Algorithms-Blockchain/blob/main/SHA%20Cryptography.ipynb\n",
    "###############################"
   ]
  },
  {
   "cell_type": "code",
   "execution_count": 1,
   "id": "specified-projection",
   "metadata": {},
   "outputs": [],
   "source": [
    "import hashlib"
   ]
  },
  {
   "cell_type": "code",
   "execution_count": 3,
   "id": "little-evanescence",
   "metadata": {},
   "outputs": [
    {
     "name": "stdout",
     "output_type": "stream",
     "text": [
      "<sha256 HASH object @ 0x000001F6C4DCCDB0>\n"
     ]
    },
    {
     "data": {
      "text/plain": [
       "'28a699e917664ab29c497e6305deff2e1aca0dabdd507aa002bb646b5d1d8292'"
      ]
     },
     "execution_count": 3,
     "metadata": {},
     "output_type": "execute_result"
    }
   ],
   "source": [
    "j=\"PythonBlockChain\"\n",
    "k=hashlib.sha256(j.encode())\n",
    "print(k)\n",
    "k.hexdigest() # to get hexadecimal"
   ]
  },
  {
   "cell_type": "code",
   "execution_count": 8,
   "id": "civilian-client",
   "metadata": {},
   "outputs": [],
   "source": [
    "m=hashlib.sha384(j.encode()).hexdigest"
   ]
  },
  {
   "cell_type": "code",
   "execution_count": 10,
   "id": "racial-flush",
   "metadata": {},
   "outputs": [
    {
     "name": "stdout",
     "output_type": "stream",
     "text": [
      "<built-in method hexdigest of _hashlib.HASH object at 0x000001F6C4E2F110>\n"
     ]
    }
   ],
   "source": [
    "print(m)"
   ]
  },
  {
   "cell_type": "code",
   "execution_count": 13,
   "id": "hired-rebate",
   "metadata": {},
   "outputs": [
    {
     "name": "stdout",
     "output_type": "stream",
     "text": [
      "<sha224 HASH object @ 0x000001F6C4E2F350>\n"
     ]
    },
    {
     "data": {
      "text/plain": [
       "'2632a67618952f402c46c6b79d7e09c4ceb6d80720f5945855137af4'"
      ]
     },
     "execution_count": 13,
     "metadata": {},
     "output_type": "execute_result"
    }
   ],
   "source": [
    "n=hashlib.sha224(j.encode())\n",
    "print(n)\n",
    "n.hexdigest() # to get hexadecimal"
   ]
  }
 ],
 "metadata": {
  "kernelspec": {
   "display_name": "Python 3",
   "language": "python",
   "name": "python3"
  },
  "language_info": {
   "codemirror_mode": {
    "name": "ipython",
    "version": 3
   },
   "file_extension": ".py",
   "mimetype": "text/x-python",
   "name": "python",
   "nbconvert_exporter": "python",
   "pygments_lexer": "ipython3",
   "version": "3.8.5"
  }
 },
 "nbformat": 4,
 "nbformat_minor": 5
}
